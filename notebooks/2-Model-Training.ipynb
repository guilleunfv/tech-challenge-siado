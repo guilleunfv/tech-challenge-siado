{
 "cells": [
  {
   "cell_type": "code",
   "execution_count": 1,
   "id": "771a4582-4a45-4f02-8202-1c3c88c89a77",
   "metadata": {},
   "outputs": [
    {
     "name": "stdout",
     "output_type": "stream",
     "text": [
      "Bibliotecas de modelagem importadas com sucesso!\n"
     ]
    }
   ],
   "source": [
    "# CÉLULA 1: IMPORTAÇÃO DAS BIBLIOTECAS\n",
    "\n",
    "import pandas as pd\n",
    "import numpy as np\n",
    "import plotly.express as px\n",
    "from sklearn.model_selection import train_test_split, GridSearchCV, KFold\n",
    "from sklearn.preprocessing import StandardScaler, OneHotEncoder, OrdinalEncoder\n",
    "from sklearn.compose import ColumnTransformer\n",
    "from sklearn.pipeline import Pipeline\n",
    "from sklearn.ensemble import RandomForestClassifier\n",
    "from sklearn.metrics import accuracy_score, classification_report, confusion_matrix\n",
    "import joblib # Para salvar nosso modelo\n",
    "\n",
    "# Mensagem de confirmação\n",
    "print(\"Bibliotecas de modelagem importadas com sucesso!\")"
   ]
  },
  {
   "cell_type": "code",
   "execution_count": 2,
   "id": "b1d214d5-e818-465f-b078-3a28de873c2e",
   "metadata": {},
   "outputs": [
    {
     "name": "stdout",
     "output_type": "stream",
     "text": [
      "DataFrame pronto para engenharia de características e pré-processamento.\n"
     ]
    },
    {
     "data": {
      "text/html": [
       "<div>\n",
       "<style scoped>\n",
       "    .dataframe tbody tr th:only-of-type {\n",
       "        vertical-align: middle;\n",
       "    }\n",
       "\n",
       "    .dataframe tbody tr th {\n",
       "        vertical-align: top;\n",
       "    }\n",
       "\n",
       "    .dataframe thead th {\n",
       "        text-align: right;\n",
       "    }\n",
       "</style>\n",
       "<table border=\"1\" class=\"dataframe\">\n",
       "  <thead>\n",
       "    <tr style=\"text-align: right;\">\n",
       "      <th></th>\n",
       "      <th>genero</th>\n",
       "      <th>idade</th>\n",
       "      <th>altura_m</th>\n",
       "      <th>peso_kg</th>\n",
       "      <th>historia_familiar_sobrepeso</th>\n",
       "      <th>come_comida_calorica_freq</th>\n",
       "      <th>freq_consumo_vegetais</th>\n",
       "      <th>num_refeicoes_principais</th>\n",
       "      <th>come_entre_refeicoes</th>\n",
       "      <th>fumante</th>\n",
       "      <th>consumo_agua_litros</th>\n",
       "      <th>monitora_calorias</th>\n",
       "      <th>freq_atividade_fisica</th>\n",
       "      <th>tempo_uso_dispositivos</th>\n",
       "      <th>freq_consumo_alcool</th>\n",
       "      <th>meio_transporte</th>\n",
       "      <th>nivel_obesidade</th>\n",
       "    </tr>\n",
       "  </thead>\n",
       "  <tbody>\n",
       "    <tr>\n",
       "      <th>0</th>\n",
       "      <td>Female</td>\n",
       "      <td>21</td>\n",
       "      <td>1.62</td>\n",
       "      <td>64.0</td>\n",
       "      <td>yes</td>\n",
       "      <td>no</td>\n",
       "      <td>2</td>\n",
       "      <td>3</td>\n",
       "      <td>Sometimes</td>\n",
       "      <td>no</td>\n",
       "      <td>2</td>\n",
       "      <td>no</td>\n",
       "      <td>0</td>\n",
       "      <td>1</td>\n",
       "      <td>no</td>\n",
       "      <td>Public_Transportation</td>\n",
       "      <td>Normal_Weight</td>\n",
       "    </tr>\n",
       "    <tr>\n",
       "      <th>1</th>\n",
       "      <td>Female</td>\n",
       "      <td>21</td>\n",
       "      <td>1.52</td>\n",
       "      <td>56.0</td>\n",
       "      <td>yes</td>\n",
       "      <td>no</td>\n",
       "      <td>3</td>\n",
       "      <td>3</td>\n",
       "      <td>Sometimes</td>\n",
       "      <td>yes</td>\n",
       "      <td>3</td>\n",
       "      <td>yes</td>\n",
       "      <td>3</td>\n",
       "      <td>0</td>\n",
       "      <td>Sometimes</td>\n",
       "      <td>Public_Transportation</td>\n",
       "      <td>Normal_Weight</td>\n",
       "    </tr>\n",
       "    <tr>\n",
       "      <th>2</th>\n",
       "      <td>Male</td>\n",
       "      <td>23</td>\n",
       "      <td>1.80</td>\n",
       "      <td>77.0</td>\n",
       "      <td>yes</td>\n",
       "      <td>no</td>\n",
       "      <td>2</td>\n",
       "      <td>3</td>\n",
       "      <td>Sometimes</td>\n",
       "      <td>no</td>\n",
       "      <td>2</td>\n",
       "      <td>no</td>\n",
       "      <td>2</td>\n",
       "      <td>1</td>\n",
       "      <td>Frequently</td>\n",
       "      <td>Public_Transportation</td>\n",
       "      <td>Normal_Weight</td>\n",
       "    </tr>\n",
       "    <tr>\n",
       "      <th>3</th>\n",
       "      <td>Male</td>\n",
       "      <td>27</td>\n",
       "      <td>1.80</td>\n",
       "      <td>87.0</td>\n",
       "      <td>no</td>\n",
       "      <td>no</td>\n",
       "      <td>3</td>\n",
       "      <td>3</td>\n",
       "      <td>Sometimes</td>\n",
       "      <td>no</td>\n",
       "      <td>2</td>\n",
       "      <td>no</td>\n",
       "      <td>2</td>\n",
       "      <td>0</td>\n",
       "      <td>Frequently</td>\n",
       "      <td>Walking</td>\n",
       "      <td>Overweight_Level_I</td>\n",
       "    </tr>\n",
       "    <tr>\n",
       "      <th>4</th>\n",
       "      <td>Male</td>\n",
       "      <td>22</td>\n",
       "      <td>1.78</td>\n",
       "      <td>89.8</td>\n",
       "      <td>no</td>\n",
       "      <td>no</td>\n",
       "      <td>2</td>\n",
       "      <td>1</td>\n",
       "      <td>Sometimes</td>\n",
       "      <td>no</td>\n",
       "      <td>2</td>\n",
       "      <td>no</td>\n",
       "      <td>0</td>\n",
       "      <td>0</td>\n",
       "      <td>Sometimes</td>\n",
       "      <td>Public_Transportation</td>\n",
       "      <td>Overweight_Level_II</td>\n",
       "    </tr>\n",
       "  </tbody>\n",
       "</table>\n",
       "</div>"
      ],
      "text/plain": [
       "   genero  idade  altura_m  peso_kg historia_familiar_sobrepeso  \\\n",
       "0  Female     21      1.62     64.0                         yes   \n",
       "1  Female     21      1.52     56.0                         yes   \n",
       "2    Male     23      1.80     77.0                         yes   \n",
       "3    Male     27      1.80     87.0                          no   \n",
       "4    Male     22      1.78     89.8                          no   \n",
       "\n",
       "  come_comida_calorica_freq  freq_consumo_vegetais  num_refeicoes_principais  \\\n",
       "0                        no                      2                         3   \n",
       "1                        no                      3                         3   \n",
       "2                        no                      2                         3   \n",
       "3                        no                      3                         3   \n",
       "4                        no                      2                         1   \n",
       "\n",
       "  come_entre_refeicoes fumante  consumo_agua_litros monitora_calorias  \\\n",
       "0            Sometimes      no                    2                no   \n",
       "1            Sometimes     yes                    3               yes   \n",
       "2            Sometimes      no                    2                no   \n",
       "3            Sometimes      no                    2                no   \n",
       "4            Sometimes      no                    2                no   \n",
       "\n",
       "   freq_atividade_fisica  tempo_uso_dispositivos freq_consumo_alcool  \\\n",
       "0                      0                       1                  no   \n",
       "1                      3                       0           Sometimes   \n",
       "2                      2                       1          Frequently   \n",
       "3                      2                       0          Frequently   \n",
       "4                      0                       0           Sometimes   \n",
       "\n",
       "         meio_transporte      nivel_obesidade  \n",
       "0  Public_Transportation        Normal_Weight  \n",
       "1  Public_Transportation        Normal_Weight  \n",
       "2  Public_Transportation        Normal_Weight  \n",
       "3                Walking   Overweight_Level_I  \n",
       "4  Public_Transportation  Overweight_Level_II  "
      ]
     },
     "execution_count": 2,
     "metadata": {},
     "output_type": "execute_result"
    }
   ],
   "source": [
    "# CÉLULA 2: CARREGAMENTO E PREPARAÇÃO DOS DADOS\n",
    "\n",
    "# Carregar o dataset original\n",
    "caminho_arquivo = '../data/raw/obesity.csv' # Usando o nome correto do seu CSV\n",
    "df_original = pd.read_csv(caminho_arquivo)\n",
    "\n",
    "# Dicionário de renomeação\n",
    "mapa_colunas = {\n",
    "    'Gender': 'genero',\n",
    "    'Age': 'idade',\n",
    "    'Height': 'altura_m',\n",
    "    'Weight': 'peso_kg',\n",
    "    'family_history': 'historia_familiar_sobrepeso',\n",
    "    'FAVC': 'come_comida_calorica_freq',\n",
    "    'FCVC': 'freq_consumo_vegetais',\n",
    "    'NCP': 'num_refeicoes_principais',\n",
    "    'CAEC': 'come_entre_refeicoes',\n",
    "    'SMOKE': 'fumante',\n",
    "    'CH2O': 'consumo_agua_litros',\n",
    "    'SCC': 'monitora_calorias',\n",
    "    'FAF': 'freq_atividade_fisica',\n",
    "    'TUE': 'tempo_uso_dispositivos',\n",
    "    'CALC': 'freq_consumo_alcool',\n",
    "    'MTRANS': 'meio_transporte',\n",
    "    'Obesity': 'nivel_obesidade'\n",
    "}\n",
    "\n",
    "# Renomear colunas\n",
    "df = df_original.rename(columns=mapa_colunas)\n",
    "\n",
    "# Ajuste de Tipos de Dados\n",
    "df['idade'] = df['idade'].astype(int)\n",
    "df['freq_consumo_vegetais'] = df['freq_consumo_vegetais'].astype(int)\n",
    "df['num_refeicoes_principais'] = df['num_refeicoes_principais'].astype(int)\n",
    "df['consumo_agua_litros'] = df['consumo_agua_litros'].astype(int)\n",
    "df['freq_atividade_fisica'] = df['freq_atividade_fisica'].astype(int)\n",
    "df['tempo_uso_dispositivos'] = df['tempo_uso_dispositivos'].astype(int)\n",
    "\n",
    "# Exibir as 5 primeiras linhas para confirmar\n",
    "print(\"DataFrame pronto para engenharia de características e pré-processamento.\")\n",
    "df.head()"
   ]
  },
  {
   "cell_type": "code",
   "execution_count": 3,
   "id": "defe7ed8-46cf-4aae-b023-591384138cb5",
   "metadata": {},
   "outputs": [
    {
     "name": "stdout",
     "output_type": "stream",
     "text": [
      "DataFrame com a nova característica 'imc':\n"
     ]
    },
    {
     "data": {
      "text/html": [
       "<div>\n",
       "<style scoped>\n",
       "    .dataframe tbody tr th:only-of-type {\n",
       "        vertical-align: middle;\n",
       "    }\n",
       "\n",
       "    .dataframe tbody tr th {\n",
       "        vertical-align: top;\n",
       "    }\n",
       "\n",
       "    .dataframe thead th {\n",
       "        text-align: right;\n",
       "    }\n",
       "</style>\n",
       "<table border=\"1\" class=\"dataframe\">\n",
       "  <thead>\n",
       "    <tr style=\"text-align: right;\">\n",
       "      <th></th>\n",
       "      <th>altura_m</th>\n",
       "      <th>peso_kg</th>\n",
       "      <th>imc</th>\n",
       "      <th>nivel_obesidade</th>\n",
       "    </tr>\n",
       "  </thead>\n",
       "  <tbody>\n",
       "    <tr>\n",
       "      <th>0</th>\n",
       "      <td>1.62</td>\n",
       "      <td>64.0</td>\n",
       "      <td>24.39</td>\n",
       "      <td>Normal_Weight</td>\n",
       "    </tr>\n",
       "    <tr>\n",
       "      <th>1</th>\n",
       "      <td>1.52</td>\n",
       "      <td>56.0</td>\n",
       "      <td>24.24</td>\n",
       "      <td>Normal_Weight</td>\n",
       "    </tr>\n",
       "    <tr>\n",
       "      <th>2</th>\n",
       "      <td>1.80</td>\n",
       "      <td>77.0</td>\n",
       "      <td>23.77</td>\n",
       "      <td>Normal_Weight</td>\n",
       "    </tr>\n",
       "    <tr>\n",
       "      <th>3</th>\n",
       "      <td>1.80</td>\n",
       "      <td>87.0</td>\n",
       "      <td>26.85</td>\n",
       "      <td>Overweight_Level_I</td>\n",
       "    </tr>\n",
       "    <tr>\n",
       "      <th>4</th>\n",
       "      <td>1.78</td>\n",
       "      <td>89.8</td>\n",
       "      <td>28.34</td>\n",
       "      <td>Overweight_Level_II</td>\n",
       "    </tr>\n",
       "  </tbody>\n",
       "</table>\n",
       "</div>"
      ],
      "text/plain": [
       "   altura_m  peso_kg    imc      nivel_obesidade\n",
       "0      1.62     64.0  24.39        Normal_Weight\n",
       "1      1.52     56.0  24.24        Normal_Weight\n",
       "2      1.80     77.0  23.77        Normal_Weight\n",
       "3      1.80     87.0  26.85   Overweight_Level_I\n",
       "4      1.78     89.8  28.34  Overweight_Level_II"
      ]
     },
     "execution_count": 3,
     "metadata": {},
     "output_type": "execute_result"
    }
   ],
   "source": [
    "# CÉLULA 3: ENGENHARIA DE CARACTERÍSTICAS\n",
    "\n",
    "# Criar a coluna 'imc' (Índice de Massa Corporal)\n",
    "# Fórmula: peso (kg) / (altura (m))^2\n",
    "df['imc'] = (df['peso_kg'] / (df['altura_m'] ** 2)).round(2)\n",
    "\n",
    "# Exibir as primeiras linhas com a nova coluna para verificação\n",
    "print(\"DataFrame com a nova característica 'imc':\")\n",
    "df[['altura_m', 'peso_kg', 'imc', 'nivel_obesidade']].head()"
   ]
  },
  {
   "cell_type": "code",
   "execution_count": 5,
   "id": "eaaaa4a8-4c4f-4d30-929d-bc25c01f5854",
   "metadata": {},
   "outputs": [
    {
     "name": "stdout",
     "output_type": "stream",
     "text": [
      "Dimensões de X (variáveis preditoras): (2111, 17)\n",
      "Dimensões de y (variável alvo): (2111,)\n"
     ]
    }
   ],
   "source": [
    "# CÉLULA 4: SEPARAÇÃO DE VARIÁVEIS PREDITORAS (X) E VARIÁVEL ALVO (y)\n",
    "\n",
    "# 'X' contém todas as colunas, exceto o nosso alvo 'nivel_obesidade'\n",
    "X = df.drop('nivel_obesidade', axis=1)\n",
    "\n",
    "# 'y' contém apenas a nossa coluna alvo\n",
    "y = df['nivel_obesidade']\n",
    "\n",
    "# Exibir as dimensões dos dataframes resultantes para verificação\n",
    "print(f\"Dimensões de X (variáveis preditoras): {X.shape}\")\n",
    "print(f\"Dimensões de y (variável alvo): {y.shape}\")"
   ]
  },
  {
   "cell_type": "code",
   "execution_count": 10,
   "id": "170748c8-1048-4c8f-8b12-1e8b3fa28a14",
   "metadata": {},
   "outputs": [
    {
     "name": "stdout",
     "output_type": "stream",
     "text": [
      "Dimensões dos conjuntos de dados após a divisão:\n",
      "X_train: (1688, 17)\n",
      "X_test:  (423, 17)\n",
      "y_train: (1688,)\n",
      "y_test:  (423,)\n",
      "\n",
      "Classes originais: ['Insufficient_Weight' 'Normal_Weight' 'Obesity_Type_I' 'Obesity_Type_II'\n",
      " 'Obesity_Type_III' 'Overweight_Level_I' 'Overweight_Level_II']\n",
      "Classes codificadas (exemplo): [5 1 1 5 5]\n"
     ]
    }
   ],
   "source": [
    "# CÉLULA 5: DIVISÃO EM CONJUNTOS DE TREINO E TESTE\n",
    "\n",
    "# Usamos train_test_split para dividir os dados\n",
    "# test_size=0.2 significa que 20% dos dados serão para teste e 80% para treino.\n",
    "# random_state=42 garante que a divisão seja sempre a mesma, para reprodutibilidade.\n",
    "# stratify=y é CRUCIAL: garante que a proporção de cada nível de obesidade\n",
    "# seja a mesma tanto no conjunto de treino quanto no de teste.\n",
    "X_train, X_test, y_train, y_test = train_test_split(\n",
    "    X, y,\n",
    "    test_size=0.2,\n",
    "    random_state=42,\n",
    "    stratify=y\n",
    ")\n",
    "\n",
    "# Exibir as dimensões dos conjuntos resultantes para confirmar\n",
    "print(\"Dimensões dos conjuntos de dados após a divisão:\")\n",
    "print(f\"X_train: {X_train.shape}\")\n",
    "print(f\"X_test:  {X_test.shape}\")\n",
    "print(f\"y_train: {y_train.shape}\")\n",
    "print(f\"y_test:  {y_test.shape}\")\n",
    "\n",
    "# CÓDIGO PARA ADICIONAR NO FINAL DA CÉLULA 5\n",
    "\n",
    "from sklearn.preprocessing import LabelEncoder\n",
    "\n",
    "# Criar uma instância do LabelEncoder\n",
    "le = LabelEncoder()\n",
    "\n",
    "# Ajustar o encoder aos dados de treino e transformar tanto treino quanto teste\n",
    "# É importante usar o mesmo encoder para ambos para manter a consistência\n",
    "y_train_encoded = le.fit_transform(y_train)\n",
    "y_test_encoded = le.transform(y_test)\n",
    "\n",
    "# Vamos dar uma olhada nas classes e como foram codificadas\n",
    "print(\"\\nClasses originais:\", le.classes_)\n",
    "print(\"Classes codificadas (exemplo):\", y_train_encoded[:5])\n"
   ]
  },
  {
   "cell_type": "code",
   "execution_count": 11,
   "id": "e567d0df-4009-41b5-9e6e-05083c021d4b",
   "metadata": {},
   "outputs": [
    {
     "name": "stdout",
     "output_type": "stream",
     "text": [
      "Pipeline de pré-processamento ('preprocessor') definido com sucesso.\n",
      "ColumnTransformer(remainder='passthrough',\n",
      "                  transformers=[('num', StandardScaler(),\n",
      "                                 ['idade', 'altura_m', 'peso_kg',\n",
      "                                  'freq_consumo_vegetais',\n",
      "                                  'num_refeicoes_principais',\n",
      "                                  'consumo_agua_litros',\n",
      "                                  'freq_atividade_fisica',\n",
      "                                  'tempo_uso_dispositivos', 'imc']),\n",
      "                                ('ord',\n",
      "                                 OrdinalEncoder(categories=[['no', 'Sometimes',\n",
      "                                                             'Frequently',\n",
      "                                                             'Always'],\n",
      "                                                            ['no', 'Sometimes',\n",
      "                                                             'Frequently',\n",
      "                                                             'Always']]),\n",
      "                                 ['come_entre_refeicoes',\n",
      "                                  'freq_consumo_alcool']),\n",
      "                                ('nom',\n",
      "                                 OneHotEncoder(handle_unknown='ignore',\n",
      "                                               sparse_output=False),\n",
      "                                 ['genero', 'historia_familiar_sobrepeso',\n",
      "                                  'come_comida_calorica_freq', 'fumante',\n",
      "                                  'monitora_calorias', 'meio_transporte'])])\n"
     ]
    }
   ],
   "source": [
    "# CÉLULA 6: DEFINIÇÃO DO PIPELINE DE PRÉ-PROCESSAMENTO\n",
    "\n",
    "# 1. Identificar os tipos de colunas\n",
    "# Colunas numéricas que precisam ser escaladas\n",
    "colunas_numericas = X.select_dtypes(include=np.number).columns.tolist()\n",
    "\n",
    "# Colunas categóricas que têm uma ordem clara (baixa, média, alta)\n",
    "colunas_ordinais = ['come_entre_refeicoes', 'freq_consumo_alcool']\n",
    "\n",
    "# Colunas categóricas que não têm uma ordem (nominais)\n",
    "colunas_nominais = ['genero', 'historia_familiar_sobrepeso', 'come_comida_calorica_freq', 'fumante', 'monitora_calorias', 'meio_transporte']\n",
    "\n",
    "# 2. Definir as categorias para as colunas ordinais (a ordem é importante!)\n",
    "categorias_ordinais = [\n",
    "    ['no', 'Sometimes', 'Frequently', 'Always'],  # Ordem para 'come_entre_refeicoes' e 'freq_consumo_alcool'\n",
    "    ['no', 'Sometimes', 'Frequently', 'Always']   # A ordem é a mesma para ambas\n",
    "]\n",
    "\n",
    "# 3. Criar os transformadores individuais\n",
    "# Para dados numéricos: StandardScaler padroniza os dados (média 0, desvio padrão 1)\n",
    "transformador_numerico = StandardScaler()\n",
    "\n",
    "# Para dados ordinais: OrdinalEncoder converte as categorias de texto em números baseados na ordem definida\n",
    "transformador_ordinal = OrdinalEncoder(categories=categorias_ordinais)\n",
    "\n",
    "# Para dados nominais: OneHotEncoder cria novas colunas binárias (0 ou 1) para cada categoria\n",
    "# handle_unknown='ignore' evita erros se uma nova categoria aparecer nos dados de teste\n",
    "transformador_nominal = OneHotEncoder(handle_unknown='ignore', sparse_output=False)\n",
    "\n",
    "# 4. Montar o ColumnTransformer\n",
    "# Este é o cérebro do pré-processamento. Ele aplica o transformador certo na coluna certa.\n",
    "preprocessor = ColumnTransformer(\n",
    "    transformers=[\n",
    "        ('num', transformador_numerico, colunas_numericas),\n",
    "        ('ord', transformador_ordinal, colunas_ordinais),\n",
    "        ('nom', transformador_nominal, colunas_nominais)\n",
    "    ],\n",
    "    remainder='passthrough' # Mantém as colunas não especificadas (se houver alguma), em vez de descartá-las\n",
    ")\n",
    "\n",
    "# 5. Imprimir uma mensagem de sucesso\n",
    "print(\"Pipeline de pré-processamento ('preprocessor') definido com sucesso.\")\n",
    "print(preprocessor)"
   ]
  },
  {
   "cell_type": "code",
   "execution_count": 12,
   "id": "ced05af5-822c-42f5-ac1f-21b50d331939",
   "metadata": {},
   "outputs": [
    {
     "name": "stdout",
     "output_type": "stream",
     "text": [
      "Iniciando o treinamento do pipeline...\n",
      "Treinamento concluído com sucesso!\n"
     ]
    }
   ],
   "source": [
    "# CÉLULA 7: CRIAÇÃO E TREINAMENTO DO PIPELINE FINAL (VERSÃO CORRIGIDA)\n",
    "from xgboost import XGBClassifier\n",
    "\n",
    "# 1. Definir o modelo\n",
    "# Usamos o XGBClassifier. Alguns parâmetros iniciais:\n",
    "#   - objective='multi:softmax': Especifica que é um problema de classificação multicasse.\n",
    "#   - num_class=7: Informa ao modelo que temos 7 classes diferentes.\n",
    "#   - eval_metric='mlogloss': Métrica de avaliação para problemas multicasse.\n",
    "#   - random_state=42: Para reprodutibilidade.\n",
    "modelo_xgb = XGBClassifier(objective='multi:softmax', \n",
    "                           num_class=len(le.classes_), # Usa o LabelEncoder para saber o número de classes\n",
    "                           eval_metric='mlogloss', \n",
    "                           random_state=42)\n",
    "\n",
    "# 2. Criar o Pipeline completo\n",
    "# Ele primeiro executa o 'preprocessor' e, em seguida, alimenta o resultado no 'classifier' (nosso modelo XGBoost).\n",
    "pipeline_final = Pipeline(steps=[\n",
    "    ('preprocessor', preprocessor),\n",
    "    ('classifier', modelo_xgb)\n",
    "])\n",
    "\n",
    "# 3. Treinar o Pipeline com os dados de treino (X_train) e os rótulos CODIFICADOS (y_train_encoded)\n",
    "print(\"Iniciando o treinamento do pipeline...\")\n",
    "pipeline_final.fit(X_train, y_train_encoded)\n",
    "print(\"Treinamento concluído com sucesso!\")"
   ]
  },
  {
   "cell_type": "code",
   "execution_count": 13,
   "id": "e410e6b3-8bd2-461a-bd55-efe652cede19",
   "metadata": {},
   "outputs": [
    {
     "name": "stdout",
     "output_type": "stream",
     "text": [
      "Realizando previsões no conjunto de teste...\n",
      "Previsões realizadas com sucesso.\n",
      "\n",
      "Exemplo de 5 previsões decodificadas: ['Insufficient_Weight' 'Insufficient_Weight' 'Overweight_Level_II'\n",
      " 'Obesity_Type_III' 'Obesity_Type_II']\n",
      "Exemplo de 5 rótulos reais (originais): ['Insufficient_Weight' 'Normal_Weight' 'Overweight_Level_II'\n",
      " 'Obesity_Type_III' 'Obesity_Type_II']\n"
     ]
    }
   ],
   "source": [
    "# CÉLULA 8: REALIZANDO PREVISÕES NO CONJUNTO DE TESTE\n",
    "\n",
    "# Usar o pipeline treinado para fazer previsões nos dados de teste\n",
    "print(\"Realizando previsões no conjunto de teste...\")\n",
    "y_pred_encoded = pipeline_final.predict(X_test)\n",
    "\n",
    "# As previsões 'y_pred_encoded' estão em formato numérico (0, 1, 2...).\n",
    "# Para facilitar a interpretação, vamos decodificá-las de volta para os rótulos de texto originais.\n",
    "y_pred_decoded = le.inverse_transform(y_pred_encoded)\n",
    "\n",
    "print(\"Previsões realizadas com sucesso.\")\n",
    "print(\"\\nExemplo de 5 previsões decodificadas:\", y_pred_decoded[:5])\n",
    "print(\"Exemplo de 5 rótulos reais (originais):\", y_test[:5].values)"
   ]
  },
  {
   "cell_type": "code",
   "execution_count": 14,
   "id": "40415c0c-eb94-4d89-8931-6474d655a0d6",
   "metadata": {},
   "outputs": [
    {
     "name": "stdout",
     "output_type": "stream",
     "text": [
      "Acurácia do Modelo: 97.87%\n",
      "\n",
      "--- Relatório de Classificação Detalhado ---\n",
      "                     precision    recall  f1-score   support\n",
      "\n",
      "Insufficient_Weight       0.96      1.00      0.98        54\n",
      "      Normal_Weight       0.96      0.95      0.96        58\n",
      "     Obesity_Type_I       0.99      1.00      0.99        70\n",
      "    Obesity_Type_II       0.98      1.00      0.99        60\n",
      "   Obesity_Type_III       1.00      0.98      0.99        65\n",
      " Overweight_Level_I       0.96      0.95      0.96        58\n",
      "Overweight_Level_II       0.98      0.97      0.97        58\n",
      "\n",
      "           accuracy                           0.98       423\n",
      "          macro avg       0.98      0.98      0.98       423\n",
      "       weighted avg       0.98      0.98      0.98       423\n",
      "\n"
     ]
    }
   ],
   "source": [
    "# CÉLULA 9: CÁLCULO DA ACURÁCIA E RELATÓRIO DE CLASSIFICAÇÃO\n",
    "\n",
    "# Calcular a acurácia do modelo. Usamos os rótulos codificados para a comparação.\n",
    "acuracia = accuracy_score(y_test_encoded, y_pred_encoded)\n",
    "print(f\"Acurácia do Modelo: {acuracia * 100:.2f}%\")\n",
    "\n",
    "# Gerar e imprimir o relatório de classificação detalhado\n",
    "# Ele mostra precisão, recall e f1-score para cada classe individualmente.\n",
    "print(\"\\n--- Relatório de Classificação Detalhado ---\")\n",
    "report = classification_report(y_test, y_pred_decoded, target_names=le.classes_)\n",
    "print(report)"
   ]
  },
  {
   "cell_type": "code",
   "execution_count": 15,
   "id": "22890a3e-96c2-4c62-8872-4242e3578dd1",
   "metadata": {},
   "outputs": [
    {
     "data": {
      "application/vnd.plotly.v1+json": {
       "config": {
        "plotlyServerURL": "https://plot.ly"
       },
       "data": [
        {
         "coloraxis": "coloraxis",
         "hovertemplate": "Previsão do Modelo: %{x}<br>Valor Real: %{y}<br>Contagem: %{z}<extra></extra>",
         "name": "0",
         "texttemplate": "%{z}",
         "type": "heatmap",
         "x": [
          "Insufficient_Weight",
          "Normal_Weight",
          "Obesity_Type_I",
          "Obesity_Type_II",
          "Obesity_Type_III",
          "Overweight_Level_I",
          "Overweight_Level_II"
         ],
         "xaxis": "x",
         "y": [
          "Insufficient_Weight",
          "Normal_Weight",
          "Obesity_Type_I",
          "Obesity_Type_II",
          "Obesity_Type_III",
          "Overweight_Level_I",
          "Overweight_Level_II"
         ],
         "yaxis": "y",
         "z": {
          "bdata": "NgAAAAAAAAI3AAAAAQAAAEYAAAAAAAAAPAAAAAAAAAFAAAAAAgAAADcBAAABAAABOA==",
          "dtype": "i1",
          "shape": "7, 7"
         }
        }
       ],
       "layout": {
        "coloraxis": {
         "colorbar": {
          "title": {
           "text": "Contagem"
          }
         },
         "colorscale": [
          [
           0,
           "rgb(247,251,255)"
          ],
          [
           0.125,
           "rgb(222,235,247)"
          ],
          [
           0.25,
           "rgb(198,219,239)"
          ],
          [
           0.375,
           "rgb(158,202,225)"
          ],
          [
           0.5,
           "rgb(107,174,214)"
          ],
          [
           0.625,
           "rgb(66,146,198)"
          ],
          [
           0.75,
           "rgb(33,113,181)"
          ],
          [
           0.875,
           "rgb(8,81,156)"
          ],
          [
           1,
           "rgb(8,48,107)"
          ]
         ]
        },
        "template": {
         "data": {
          "bar": [
           {
            "error_x": {
             "color": "#2a3f5f"
            },
            "error_y": {
             "color": "#2a3f5f"
            },
            "marker": {
             "line": {
              "color": "#E5ECF6",
              "width": 0.5
             },
             "pattern": {
              "fillmode": "overlay",
              "size": 10,
              "solidity": 0.2
             }
            },
            "type": "bar"
           }
          ],
          "barpolar": [
           {
            "marker": {
             "line": {
              "color": "#E5ECF6",
              "width": 0.5
             },
             "pattern": {
              "fillmode": "overlay",
              "size": 10,
              "solidity": 0.2
             }
            },
            "type": "barpolar"
           }
          ],
          "carpet": [
           {
            "aaxis": {
             "endlinecolor": "#2a3f5f",
             "gridcolor": "white",
             "linecolor": "white",
             "minorgridcolor": "white",
             "startlinecolor": "#2a3f5f"
            },
            "baxis": {
             "endlinecolor": "#2a3f5f",
             "gridcolor": "white",
             "linecolor": "white",
             "minorgridcolor": "white",
             "startlinecolor": "#2a3f5f"
            },
            "type": "carpet"
           }
          ],
          "choropleth": [
           {
            "colorbar": {
             "outlinewidth": 0,
             "ticks": ""
            },
            "type": "choropleth"
           }
          ],
          "contour": [
           {
            "colorbar": {
             "outlinewidth": 0,
             "ticks": ""
            },
            "colorscale": [
             [
              0,
              "#0d0887"
             ],
             [
              0.1111111111111111,
              "#46039f"
             ],
             [
              0.2222222222222222,
              "#7201a8"
             ],
             [
              0.3333333333333333,
              "#9c179e"
             ],
             [
              0.4444444444444444,
              "#bd3786"
             ],
             [
              0.5555555555555556,
              "#d8576b"
             ],
             [
              0.6666666666666666,
              "#ed7953"
             ],
             [
              0.7777777777777778,
              "#fb9f3a"
             ],
             [
              0.8888888888888888,
              "#fdca26"
             ],
             [
              1,
              "#f0f921"
             ]
            ],
            "type": "contour"
           }
          ],
          "contourcarpet": [
           {
            "colorbar": {
             "outlinewidth": 0,
             "ticks": ""
            },
            "type": "contourcarpet"
           }
          ],
          "heatmap": [
           {
            "colorbar": {
             "outlinewidth": 0,
             "ticks": ""
            },
            "colorscale": [
             [
              0,
              "#0d0887"
             ],
             [
              0.1111111111111111,
              "#46039f"
             ],
             [
              0.2222222222222222,
              "#7201a8"
             ],
             [
              0.3333333333333333,
              "#9c179e"
             ],
             [
              0.4444444444444444,
              "#bd3786"
             ],
             [
              0.5555555555555556,
              "#d8576b"
             ],
             [
              0.6666666666666666,
              "#ed7953"
             ],
             [
              0.7777777777777778,
              "#fb9f3a"
             ],
             [
              0.8888888888888888,
              "#fdca26"
             ],
             [
              1,
              "#f0f921"
             ]
            ],
            "type": "heatmap"
           }
          ],
          "histogram": [
           {
            "marker": {
             "pattern": {
              "fillmode": "overlay",
              "size": 10,
              "solidity": 0.2
             }
            },
            "type": "histogram"
           }
          ],
          "histogram2d": [
           {
            "colorbar": {
             "outlinewidth": 0,
             "ticks": ""
            },
            "colorscale": [
             [
              0,
              "#0d0887"
             ],
             [
              0.1111111111111111,
              "#46039f"
             ],
             [
              0.2222222222222222,
              "#7201a8"
             ],
             [
              0.3333333333333333,
              "#9c179e"
             ],
             [
              0.4444444444444444,
              "#bd3786"
             ],
             [
              0.5555555555555556,
              "#d8576b"
             ],
             [
              0.6666666666666666,
              "#ed7953"
             ],
             [
              0.7777777777777778,
              "#fb9f3a"
             ],
             [
              0.8888888888888888,
              "#fdca26"
             ],
             [
              1,
              "#f0f921"
             ]
            ],
            "type": "histogram2d"
           }
          ],
          "histogram2dcontour": [
           {
            "colorbar": {
             "outlinewidth": 0,
             "ticks": ""
            },
            "colorscale": [
             [
              0,
              "#0d0887"
             ],
             [
              0.1111111111111111,
              "#46039f"
             ],
             [
              0.2222222222222222,
              "#7201a8"
             ],
             [
              0.3333333333333333,
              "#9c179e"
             ],
             [
              0.4444444444444444,
              "#bd3786"
             ],
             [
              0.5555555555555556,
              "#d8576b"
             ],
             [
              0.6666666666666666,
              "#ed7953"
             ],
             [
              0.7777777777777778,
              "#fb9f3a"
             ],
             [
              0.8888888888888888,
              "#fdca26"
             ],
             [
              1,
              "#f0f921"
             ]
            ],
            "type": "histogram2dcontour"
           }
          ],
          "mesh3d": [
           {
            "colorbar": {
             "outlinewidth": 0,
             "ticks": ""
            },
            "type": "mesh3d"
           }
          ],
          "parcoords": [
           {
            "line": {
             "colorbar": {
              "outlinewidth": 0,
              "ticks": ""
             }
            },
            "type": "parcoords"
           }
          ],
          "pie": [
           {
            "automargin": true,
            "type": "pie"
           }
          ],
          "scatter": [
           {
            "fillpattern": {
             "fillmode": "overlay",
             "size": 10,
             "solidity": 0.2
            },
            "type": "scatter"
           }
          ],
          "scatter3d": [
           {
            "line": {
             "colorbar": {
              "outlinewidth": 0,
              "ticks": ""
             }
            },
            "marker": {
             "colorbar": {
              "outlinewidth": 0,
              "ticks": ""
             }
            },
            "type": "scatter3d"
           }
          ],
          "scattercarpet": [
           {
            "marker": {
             "colorbar": {
              "outlinewidth": 0,
              "ticks": ""
             }
            },
            "type": "scattercarpet"
           }
          ],
          "scattergeo": [
           {
            "marker": {
             "colorbar": {
              "outlinewidth": 0,
              "ticks": ""
             }
            },
            "type": "scattergeo"
           }
          ],
          "scattergl": [
           {
            "marker": {
             "colorbar": {
              "outlinewidth": 0,
              "ticks": ""
             }
            },
            "type": "scattergl"
           }
          ],
          "scattermap": [
           {
            "marker": {
             "colorbar": {
              "outlinewidth": 0,
              "ticks": ""
             }
            },
            "type": "scattermap"
           }
          ],
          "scattermapbox": [
           {
            "marker": {
             "colorbar": {
              "outlinewidth": 0,
              "ticks": ""
             }
            },
            "type": "scattermapbox"
           }
          ],
          "scatterpolar": [
           {
            "marker": {
             "colorbar": {
              "outlinewidth": 0,
              "ticks": ""
             }
            },
            "type": "scatterpolar"
           }
          ],
          "scatterpolargl": [
           {
            "marker": {
             "colorbar": {
              "outlinewidth": 0,
              "ticks": ""
             }
            },
            "type": "scatterpolargl"
           }
          ],
          "scatterternary": [
           {
            "marker": {
             "colorbar": {
              "outlinewidth": 0,
              "ticks": ""
             }
            },
            "type": "scatterternary"
           }
          ],
          "surface": [
           {
            "colorbar": {
             "outlinewidth": 0,
             "ticks": ""
            },
            "colorscale": [
             [
              0,
              "#0d0887"
             ],
             [
              0.1111111111111111,
              "#46039f"
             ],
             [
              0.2222222222222222,
              "#7201a8"
             ],
             [
              0.3333333333333333,
              "#9c179e"
             ],
             [
              0.4444444444444444,
              "#bd3786"
             ],
             [
              0.5555555555555556,
              "#d8576b"
             ],
             [
              0.6666666666666666,
              "#ed7953"
             ],
             [
              0.7777777777777778,
              "#fb9f3a"
             ],
             [
              0.8888888888888888,
              "#fdca26"
             ],
             [
              1,
              "#f0f921"
             ]
            ],
            "type": "surface"
           }
          ],
          "table": [
           {
            "cells": {
             "fill": {
              "color": "#EBF0F8"
             },
             "line": {
              "color": "white"
             }
            },
            "header": {
             "fill": {
              "color": "#C8D4E3"
             },
             "line": {
              "color": "white"
             }
            },
            "type": "table"
           }
          ]
         },
         "layout": {
          "annotationdefaults": {
           "arrowcolor": "#2a3f5f",
           "arrowhead": 0,
           "arrowwidth": 1
          },
          "autotypenumbers": "strict",
          "coloraxis": {
           "colorbar": {
            "outlinewidth": 0,
            "ticks": ""
           }
          },
          "colorscale": {
           "diverging": [
            [
             0,
             "#8e0152"
            ],
            [
             0.1,
             "#c51b7d"
            ],
            [
             0.2,
             "#de77ae"
            ],
            [
             0.3,
             "#f1b6da"
            ],
            [
             0.4,
             "#fde0ef"
            ],
            [
             0.5,
             "#f7f7f7"
            ],
            [
             0.6,
             "#e6f5d0"
            ],
            [
             0.7,
             "#b8e186"
            ],
            [
             0.8,
             "#7fbc41"
            ],
            [
             0.9,
             "#4d9221"
            ],
            [
             1,
             "#276419"
            ]
           ],
           "sequential": [
            [
             0,
             "#0d0887"
            ],
            [
             0.1111111111111111,
             "#46039f"
            ],
            [
             0.2222222222222222,
             "#7201a8"
            ],
            [
             0.3333333333333333,
             "#9c179e"
            ],
            [
             0.4444444444444444,
             "#bd3786"
            ],
            [
             0.5555555555555556,
             "#d8576b"
            ],
            [
             0.6666666666666666,
             "#ed7953"
            ],
            [
             0.7777777777777778,
             "#fb9f3a"
            ],
            [
             0.8888888888888888,
             "#fdca26"
            ],
            [
             1,
             "#f0f921"
            ]
           ],
           "sequentialminus": [
            [
             0,
             "#0d0887"
            ],
            [
             0.1111111111111111,
             "#46039f"
            ],
            [
             0.2222222222222222,
             "#7201a8"
            ],
            [
             0.3333333333333333,
             "#9c179e"
            ],
            [
             0.4444444444444444,
             "#bd3786"
            ],
            [
             0.5555555555555556,
             "#d8576b"
            ],
            [
             0.6666666666666666,
             "#ed7953"
            ],
            [
             0.7777777777777778,
             "#fb9f3a"
            ],
            [
             0.8888888888888888,
             "#fdca26"
            ],
            [
             1,
             "#f0f921"
            ]
           ]
          },
          "colorway": [
           "#636efa",
           "#EF553B",
           "#00cc96",
           "#ab63fa",
           "#FFA15A",
           "#19d3f3",
           "#FF6692",
           "#B6E880",
           "#FF97FF",
           "#FECB52"
          ],
          "font": {
           "color": "#2a3f5f"
          },
          "geo": {
           "bgcolor": "white",
           "lakecolor": "white",
           "landcolor": "#E5ECF6",
           "showlakes": true,
           "showland": true,
           "subunitcolor": "white"
          },
          "hoverlabel": {
           "align": "left"
          },
          "hovermode": "closest",
          "mapbox": {
           "style": "light"
          },
          "paper_bgcolor": "white",
          "plot_bgcolor": "#E5ECF6",
          "polar": {
           "angularaxis": {
            "gridcolor": "white",
            "linecolor": "white",
            "ticks": ""
           },
           "bgcolor": "#E5ECF6",
           "radialaxis": {
            "gridcolor": "white",
            "linecolor": "white",
            "ticks": ""
           }
          },
          "scene": {
           "xaxis": {
            "backgroundcolor": "#E5ECF6",
            "gridcolor": "white",
            "gridwidth": 2,
            "linecolor": "white",
            "showbackground": true,
            "ticks": "",
            "zerolinecolor": "white"
           },
           "yaxis": {
            "backgroundcolor": "#E5ECF6",
            "gridcolor": "white",
            "gridwidth": 2,
            "linecolor": "white",
            "showbackground": true,
            "ticks": "",
            "zerolinecolor": "white"
           },
           "zaxis": {
            "backgroundcolor": "#E5ECF6",
            "gridcolor": "white",
            "gridwidth": 2,
            "linecolor": "white",
            "showbackground": true,
            "ticks": "",
            "zerolinecolor": "white"
           }
          },
          "shapedefaults": {
           "line": {
            "color": "#2a3f5f"
           }
          },
          "ternary": {
           "aaxis": {
            "gridcolor": "white",
            "linecolor": "white",
            "ticks": ""
           },
           "baxis": {
            "gridcolor": "white",
            "linecolor": "white",
            "ticks": ""
           },
           "bgcolor": "#E5ECF6",
           "caxis": {
            "gridcolor": "white",
            "linecolor": "white",
            "ticks": ""
           }
          },
          "title": {
           "x": 0.05
          },
          "xaxis": {
           "automargin": true,
           "gridcolor": "white",
           "linecolor": "white",
           "ticks": "",
           "title": {
            "standoff": 15
           },
           "zerolinecolor": "white",
           "zerolinewidth": 2
          },
          "yaxis": {
           "automargin": true,
           "gridcolor": "white",
           "linecolor": "white",
           "ticks": "",
           "title": {
            "standoff": 15
           },
           "zerolinecolor": "white",
           "zerolinewidth": 2
          }
         }
        },
        "title": {
         "text": "Matriz de Confusão",
         "x": 0.5
        },
        "xaxis": {
         "anchor": "y",
         "constrain": "domain",
         "domain": [
          0,
          1
         ],
         "scaleanchor": "y",
         "tickangle": -45,
         "title": {
          "text": "Previsão do Modelo"
         }
        },
        "yaxis": {
         "anchor": "x",
         "autorange": "reversed",
         "constrain": "domain",
         "domain": [
          0,
          1
         ],
         "title": {
          "text": "Valor Real"
         }
        }
       }
      },
      "image/png": "[encoded data removed]"
     },
     "metadata": {},
     "output_type": "display_data"
    }
   ],
   "source": [
    "# CÉLULA 10: MATRIZ DE CONFUSÃO VISUAL\n",
    "\n",
    "# Calcular a matriz de confusão\n",
    "cm = confusion_matrix(y_test, y_pred_decoded, labels=le.classes_)\n",
    "\n",
    "# Criar um gráfico de mapa de calor para a matriz de confusão\n",
    "fig = px.imshow(cm,\n",
    "                labels=dict(x=\"Previsão do Modelo\", y=\"Valor Real\", color=\"Contagem\"),\n",
    "                x=le.classes_,\n",
    "                y=le.classes_,\n",
    "                text_auto=True,\n",
    "                color_continuous_scale='Blues',\n",
    "                title=\"Matriz de Confusão\")\n",
    "\n",
    "fig.update_layout(title_x=0.5, xaxis_tickangle=-45)\n",
    "fig.show()"
   ]
  },
  {
   "cell_type": "code",
   "execution_count": 16,
   "id": "26beda36-5e74-44c2-a83a-c43c6f84dc67",
   "metadata": {},
   "outputs": [
    {
     "name": "stdout",
     "output_type": "stream",
     "text": [
      "Pipeline salvo com sucesso em: ../models/pipeline_obesidade.joblib\n",
      "Label Encoder salvo com sucesso em: ../models/label_encoder.joblib\n"
     ]
    }
   ],
   "source": [
    "# CÉLULA 11: SALVANDO OS ARTEFATOS DO MODELO\n",
    "\n",
    "# 1. Definir os caminhos para salvar os arquivos na pasta 'models'\n",
    "caminho_pipeline = '../models/pipeline_obesidade.joblib'\n",
    "caminho_encoder = '../models/label_encoder.joblib'\n",
    "\n",
    "# 2. Salvar o pipeline final\n",
    "joblib.dump(pipeline_final, caminho_pipeline)\n",
    "print(f\"Pipeline salvo com sucesso em: {caminho_pipeline}\")\n",
    "\n",
    "# 3. Salvar o Label Encoder\n",
    "joblib.dump(le, caminho_encoder)\n",
    "print(f\"Label Encoder salvo com sucesso em: {caminho_encoder}\")"
   ]
  },
  {
   "cell_type": "code",
   "execution_count": null,
   "id": "9c9636ea-25a6-42d7-b0fa-bb69f9aff101",
   "metadata": {},
   "outputs": [],
   "source": []
  }
 ],
 "metadata": {
  "kernelspec": {
   "display_name": "Python 3 (ipykernel)",
   "language": "python",
   "name": "python3"
  },
  "language_info": {
   "codemirror_mode": {
    "name": "ipython",
    "version": 3
   },
   "file_extension": ".py",
   "mimetype": "text/x-python",
   "name": "python",
   "nbconvert_exporter": "python",
   "pygments_lexer": "ipython3",
   "version": "3.12.2"
  }
 },
 "nbformat": 4,
 "nbformat_minor": 5
}
